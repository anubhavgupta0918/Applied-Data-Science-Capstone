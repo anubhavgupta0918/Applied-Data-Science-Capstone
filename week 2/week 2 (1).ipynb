{
 "cells": [
  {
   "cell_type": "markdown",
   "metadata": {},
   "source": [
    "# description of the problem\n",
    "Car accidents are one of the most common issues found across the globe to be severe.Accidents might sometimes be due to our negligence or due to natural reasons or anything.Sometimes, we might be too lazy or negligent to drive costing our lives as well as the others.Whereas sometimes, due to heavy rain or heavy gales etc. we might unknowingly droop into an accident with the other car.Whatever the reason maybe, car accidents not only lead to property damage but cause injuries and sometimes even leading to people's death.In our project we decide how these accidents occur due to weather conditions.So, the main problem or question arising in this depressing situation is\n",
    "\n",
    "\"What is the severity of these car accidents?What are their causes?And How to curb or slow down them?\"\n",
    "\n",
    " "
   ]
  },
  {
   "cell_type": "markdown",
   "metadata": {},
   "source": [
    "# discussion of the background\n",
    "Every year car accidents cause hundreds of thousands of deaths worldwide.\n",
    "Ac-cording to a research conducted by the World Health Organization (WHO)\n",
    "there were 1.35 million road tra c deaths globally in 2016, with millions more\n",
    "sus-taining serious injuries and living with long-term adverse health\n",
    "consequences. Globally, road tra c crashes are a leading cause of death\n",
    "among young people, and the main cause of death among those aged 15{29\n",
    "years. Road tra c injuries are currently estimated to be the eighth leading\n",
    "cause of death across all age groups globally, and are predicted to become\n",
    "the seventh leading cause of death by 2030[1].\n",
    "Leveraging the tools and all the information nowadays available, an extensive\n",
    "analysis to predict tra c accidents and its severity would make a di erence to the\n",
    "death toll. Analysing a signi cant range of factors, including weather con-ditions,\n",
    "locality, type of road and lighting among others, an accurate prediction of the\n",
    "severity of the accidents can be performed. Thus, trends that commonly lead to\n",
    "severe tra c incidents can help indentifying the highly severe accidents. This kind\n",
    "of information could be used by emergency services, to send the exact required\n",
    "sta and equipment to the place of the accident, leaving more resources available\n",
    "for accidents occurring simultaneously. Moreover, this severe accident situation\n",
    "can be warned to nearby hospitals which can have all the equipment ready for a\n",
    "severe intervention in advance.\n",
    "Consequently, road safety should be a prior interest for governments, local\n",
    "au-thorities and private companies investing in technologies that can help\n",
    "reduce accidents and improve overall driver safety"
   ]
  },
  {
   "cell_type": "markdown",
   "metadata": {},
   "source": [
    "# Problem\n",
    "Data that might contribute to determining the likeliness of a potential accident occurring might include information on previous accidents such as road\n",
    "conditions, weather conditions, exact time and place of the accident, type of\n",
    "ve-hicles involved in the accident, information on the users involved in the\n",
    "accident and o course the severity of the accident. This projects aims to\n",
    "forecast the severity of accidents with previous information that could be\n",
    "given by a witness informing the emergency services.2 Problem\n",
    "Data that might contribute to determining the likeliness of a potential accident occurring might include information on previous accidents such as road\n",
    "conditions, weather conditions, exact time and place of the accident, type of\n",
    "ve-hicles involved in the accident, information on the users involved in the\n",
    "accident and o course the severity of the accident. This projects aims to\n",
    "forecast the severity of accidents with previous information that could be\n",
    "given by a witness informing the emergency services."
   ]
  },
  {
   "cell_type": "code",
   "execution_count": null,
   "metadata": {},
   "outputs": [],
   "source": []
  }
 ],
 "metadata": {
  "kernelspec": {
   "display_name": "Python 3",
   "language": "python",
   "name": "python3"
  },
  "language_info": {
   "codemirror_mode": {
    "name": "ipython",
    "version": 3
   },
   "file_extension": ".py",
   "mimetype": "text/x-python",
   "name": "python",
   "nbconvert_exporter": "python",
   "pygments_lexer": "ipython3",
   "version": "3.7.3"
  }
 },
 "nbformat": 4,
 "nbformat_minor": 2
}
