{
 "cells": [
  {
   "cell_type": "markdown",
   "metadata": {},
   "source": [
    "# description of the data\n",
    "\n",
    "\n"
   ]
  },
  {
   "cell_type": "markdown",
   "metadata": {},
   "source": [
    "# Data section¶\n",
    "\n",
    "\n",
    "We have several attributes in our dataset which tell us about the severity of these accidents.attributes like WEATHER, ROADCOND, LIGHTCOND, JUNCTIONTYPE can tell us about the accidents which happen naturally.And attributes like SEVERITYDESC and COLLISIONTYPE help us decide how these accidents take place. Our predictor or target variable will be 'SEVERITYCODE' because it is used measure the severity of an accident from 0 to 5 within the dataset. Attributes used to weigh the severity of an accident are 'WEATHER', 'ROADCOND' and 'LIGHTCOND'.\n",
    "\n",
    "0 : Little to no Probability (Clear Weather Conditions)\n",
    "1 : Very Low Probability - Chance or Property Damage\n",
    "2 : Low Probability - Chance of Injury\n",
    "3 : Mild Probability - Chance of Serious Injury\n",
    "4 : High Probability - Chance of Fatality\n",
    "So depending on these severity codes, we decide the extent of severity of accidents due to these these weather conditions"
   ]
  },
  {
   "cell_type": "markdown",
   "metadata": {},
   "source": [
    "# Data Source and Feature Selection\n",
    "Shared example dataset(Data-Collisions.csv) is used and based on problem definition, below factors are chosen in data analysis and prediction of accident severity (1 or 2):\n",
    "\n",
    "Accident Location\n",
    "Address Type\n",
    "Person Count involved in accident\n",
    "Vehicle Count involved in accident\n",
    "Weather\n",
    "Road Condition\n",
    "Light Condition\n",
    "Speeding\n",
    "Whether inattention\n",
    "Whether driver(s) under influnce\n",
    "\n"
   ]
  },
  {
   "cell_type": "markdown",
   "metadata": {},
   "source": [
    "# Data Cleaning\n",
    "Data with status-unmatched is removed\n",
    "10 features are selected for new data frame\n",
    "Categorical features are converted to numerical values\n",
    "Data with missing feature values are removed\n",
    "Dataset is checked and is imbalanced (more severity 1 than 2), and the dataset will be further re-sampled to reduce bias"
   ]
  },
  {
   "cell_type": "code",
   "execution_count": null,
   "metadata": {},
   "outputs": [],
   "source": []
  }
 ],
 "metadata": {
  "kernelspec": {
   "display_name": "Python 3",
   "language": "python",
   "name": "python3"
  },
  "language_info": {
   "codemirror_mode": {
    "name": "ipython",
    "version": 3
   },
   "file_extension": ".py",
   "mimetype": "text/x-python",
   "name": "python",
   "nbconvert_exporter": "python",
   "pygments_lexer": "ipython3",
   "version": "3.7.3"
  }
 },
 "nbformat": 4,
 "nbformat_minor": 2
}
