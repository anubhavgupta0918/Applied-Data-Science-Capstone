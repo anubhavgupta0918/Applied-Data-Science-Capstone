{
 "cells": [
  {
   "cell_type": "markdown",
   "metadata": {},
   "source": [
    "# Introduction/Business Problem\n",
    "Car accidents are one of the most common issues found across the globe to be severe.Accidents might sometimes be due to our negligence or due to natural reasons or anything.Sometimes, we might be too lazy or negligent to drive costing our lives as well as the others.Whereas sometimes, due to heavy rain or heavy gales etc. we might unknowingly droop into an accident with the other car.Whatever the reason maybe, car accidents not only lead to property damage but cause injuries and sometimes even leading to people's death.In our project we decide how these accidents occur due to weather conditions.So, the main problem or question arising in this depressing situation is\n",
    "\n",
    "\"What is the severity of these car accidents?What are their causes?And How to curb or slow down them?\""
   ]
  },
  {
   "cell_type": "markdown",
   "metadata": {},
   "source": [
    "# Data section\n",
    "We have several attributes in our dataset which tell us about the severity of these accidents.attributes like WEATHER, ROADCOND, LIGHTCOND, JUNCTIONTYPE can tell us about the accidents which happen naturally.And attributes like SEVERITYDESC and COLLISIONTYPE help us decide how these accidents take place. Our predictor or target variable will be 'SEVERITYCODE' because it is used measure the severity of an accident from 0 to 5 within the dataset. Attributes used to weigh the severity of an accident are 'WEATHER', 'ROADCOND' and 'LIGHTCOND'.\n",
    "\n",
    "0 : Little to no Probability (Clear Weather Conditions)\n",
    "1 : Very Low Probability - Chance or Property Damage\n",
    "2 : Low Probability - Chance of Injury\n",
    "3 : Mild Probability - Chance of Serious Injury\n",
    "4 : High Probability - Chance of Fatality\n",
    "So depending on these severity codes, we decide the extent of severity of accidents due to these these weather conditions"
   ]
  },
  {
   "cell_type": "markdown",
   "metadata": {},
   "source": [
    "# Data Source and Feature Selection\n",
    "Shared example dataset(Data-Collisions.csv) is used and based on problem definition, below factors are chosen in data analysis and prediction of accident severity (1 or 2):\n",
    "\n",
    "Accident Location\n",
    "\n",
    "Address Type\n",
    "\n",
    "Person Count involved in accident\n",
    "\n",
    "Vehicle Count involved in accident\n",
    "\n",
    "Weather\n",
    "\n",
    "Road Condition\n",
    "\n",
    "Light Condition\n",
    "\n",
    "Speeding\n",
    "\n",
    "Whether inattention\n",
    "\n",
    "Whether driver(s) under influnce\n"
   ]
  },
  {
   "cell_type": "markdown",
   "metadata": {},
   "source": [
    "# Data Cleaning\n",
    "Data with status-unmatched is removed\n",
    "10 features are selected for new data frame\n",
    "Categorical features are converted to numerical values\n",
    "Data with missing feature values are removed\n",
    "Dataset is checked and is imbalanced (more severity 1 than 2), and the dataset will be further re-sampled to reduce bias"
   ]
  },
  {
   "cell_type": "markdown",
   "metadata": {},
   "source": [
    "# Methodology\n",
    " data: Total accident counts with accident severity as Slight, Serious and Fatal Normalized accident counts each month for slight and (Serious and Fatal clubbed) Plotting importance of each feature for considered features\n",
    "\n",
    "Data Pre-processing techniques: The dataset is imputed by replacing NaN and missing values with most frequent values of the corresponding column. All the categorical values have been labeled by integers from 0 to n for each column. Time has been converted to categorial feature with 2 values i.e., daytime and night time.\n",
    "\n",
    "The data is visualized for correlation. Negatively correlated features are selected to be dropped. Feature importance is plotted to visualize and only features with high importance are taken into consideration for predicting accident severity. The multi class label is converted to binary class by merging “Serious” and “Fatal” to Serious class.\n",
    "\n",
    "Feature Selection: The dataset has 34 attributes describing the incident of an accident. There are mixed types of data such as continuous and categorical. Manually dropped few columns due to its inconsistency in values such as Accident ID, and Location ID. For selecting the best features, below functions are used from sklearn library.\n",
    "\n",
    "SelectKBest: SelectKBest is a sci-kit learn library provides the k best features by performing statistical tests i.e., chi squared computation between two non-negative features. Using chi squared function filters out the features which are independent of target attribute.\n",
    "Recursive Feature Elimination (RFE): RFE runs the defined model by trying out different possible combinations of features, and it removes the features recursively which are not impacting the class label. Logistic regression algorithm is used as a parameter for RFE to decide on features."
   ]
  },
  {
   "cell_type": "markdown",
   "metadata": {},
   "source": [
    "# Result\n",
    "\n",
    "it shows that the most collision in different lighting condition.\n",
    "\n",
    "\n",
    "Daylight       -----             116135\n",
    "\n",
    "Dark - Street Lights On  -----    48506\n",
    "\n",
    "Unknown          -----            13473\n",
    "\n",
    "Dusk                -----          5902\n",
    "\n",
    "Dawn                 -----         2502\n",
    "\n",
    "Dark - No Street Lights      ----- 1537\n",
    "\n",
    "Dark - Street Lights Off    -----  1199\n",
    "\n",
    "Other                     -----    235\n",
    "\n",
    "Dark - Unknown Lighting    ----- 11\n",
    "\n",
    "\n",
    "\n",
    "-----------------------------------------------\n",
    "\n",
    "\n",
    " Due to Weather condition---\n",
    "\n",
    "Clear-----  ----- ----- ----- -----111134\n",
    "\n",
    "Raining-----  ----- ----- ----- ---33144\n",
    "\n",
    "Overcast----- ----- ----- ----- -- 27713\n",
    "\n",
    "Unknown ----- ----- -----  ----- - 15091\n",
    "\n",
    "Snowing ----- -----  -------- -----907\n",
    "\n",
    "Other-----  ----- ----- ----- -----832\n",
    "\n",
    "Fog/Smog/Smoke -----   ----- -----  569\n",
    "\n",
    "Sleet/Hail/Freezing Rain ---------- 113\n",
    "\n",
    "Blowing Sand/Dirt ----- ----- -----     56\n",
    "\n",
    "Severe Crosswind  -----  ----- -----   25\n",
    "\n",
    "Partly Cloudy  -----   ----- -----   5\n"
   ]
  },
  {
   "cell_type": "markdown",
   "metadata": {},
   "source": [
    "# Discussion¶\n",
    "Our main aim was to predict the severity of the accident when it is “serious” and “fatal”. It was very difficult to handle this large-sized data. Using HPC we were able to run most of our algorithms. Data is highly imbalanced so even though most of our algorithms were giving > 89% accuracies, it was of no use. It was predicting all the accidents as slight accidents. After checking on all these algorithms, the team even tried dimensionality reduction techniques and but the results were not improved. Then the team decided to use the undersampled dataset as it was giving better results in predicting the severe/fatal accidents. This decision was made on trying out oversampling, undersampling, test and train data with an equal ratio of classification classes.\n",
    "\n"
   ]
  },
  {
   "cell_type": "markdown",
   "metadata": {},
   "source": [
    "# Conclusion\n",
    "In conclusion, most of the algorithms are biased towards most frequent class. However, efficient pre-processing and corresponding imbalanced data techniques should give optimal results. Based on the current known conditions of weather, light, traffic signal, road surface, speed limit etc., accident severity can be classified. But there is no one feature, that influences the accident severity."
   ]
  },
  {
   "cell_type": "code",
   "execution_count": null,
   "metadata": {},
   "outputs": [],
   "source": []
  },
  {
   "cell_type": "code",
   "execution_count": null,
   "metadata": {},
   "outputs": [],
   "source": []
  }
 ],
 "metadata": {
  "kernelspec": {
   "display_name": "Python 3",
   "language": "python",
   "name": "python3"
  },
  "language_info": {
   "codemirror_mode": {
    "name": "ipython",
    "version": 3
   },
   "file_extension": ".py",
   "mimetype": "text/x-python",
   "name": "python",
   "nbconvert_exporter": "python",
   "pygments_lexer": "ipython3",
   "version": "3.7.3"
  }
 },
 "nbformat": 4,
 "nbformat_minor": 2
}
